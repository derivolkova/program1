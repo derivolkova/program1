USE mgpu_ico_db_08;


CREATE TABLE couriers (
  courier_id INT NOT NULL,
  first_name VARCHAR(100) NOT NULL,
  vehicle_type VARCHAR(50) NOT NULL,
  PRIMARY KEY (courier_id)
) ENGINE=InnoDB DEFAULT CHARSET=utf8mb4 COLLATE=utf8mb4_unicode_ci;

CREATE TABLE packages (
  package_id INT NOT NULL,
  courier_id int NOT NULL,
  weight float NOT NULL,
  status binary NOT NULL,
  PRIMARY KEY (package_id)
) ENGINE=InnoDB DEFAULT CHARSET=utf8mb4 COLLATE=utf8mb4_unicode_ci;


INSERT INTO couriers (courier_id, first_name, vehicle_type) VALUES (1, 'коля', 'велик');
INSERT INTO couriers (courier_id, first_name, vehicle_type) VALUES (2, 'дима', 'машина');
INSERT INTO couriers (courier_id, first_name, vehicle_type) VALUES (3, 'саша', 'ножки');


INSERT INTO packages (package_id, courier_id, weight, status) VALUES (1, 1, 12.1, 1);
INSERT INTO packages (package_id, courier_id, weight, status) VALUES (2, 2, 1.3, 1);
INSERT INTO packages (package_id, courier_id, weight, status) VALUES (3, 3, 32.4, 0);
