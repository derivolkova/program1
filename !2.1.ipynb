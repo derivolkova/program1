{
 "cells": [
  {
   "cell_type": "code",
   "execution_count": 5,
   "id": "f646c497",
   "metadata": {},
   "outputs": [
    {
     "name": "stdout",
     "output_type": "stream",
     "text": [
      "Матрица смежности:\n",
      "[0, 1, 1, 0, 0, 0, 0, 0]\n",
      "[1, 0, 0, 1, 0, 0, 0, 0]\n",
      "[1, 0, 0, 0, 1, 0, 0, 0]\n",
      "[0, 1, 0, 0, 0, 0, 0, 0]\n",
      "[0, 0, 1, 0, 0, 1, 0, 0]\n",
      "[0, 0, 0, 0, 1, 0, 0, 0]\n",
      "[0, 0, 0, 0, 0, 0, 0, 1]\n",
      "[0, 0, 0, 0, 0, 0, 1, 0]\n",
      "\n",
      "Матрица инцидентности:\n",
      "[1, 1, 0, 0, 0, 0]\n",
      "[1, 0, 1, 0, 0, 0]\n",
      "[0, 1, 0, 1, 0, 0]\n",
      "[0, 0, 1, 0, 0, 0]\n",
      "[0, 0, 0, 1, 1, 0]\n",
      "[0, 0, 0, 0, 1, 0]\n",
      "[0, 0, 0, 0, 0, 1]\n",
      "[0, 0, 0, 0, 0, 1]\n",
      "\n",
      "Компоненты связности графа:\n",
      "Компонента 1: [1, 2, 4, 3, 5, 6]\n",
      "Компонента 2: [7, 8]\n"
     ]
    }
   ],
   "source": [
    "# Матрица смежности\n",
    "def create_matrix(edges, num_vertices):\n",
    "    matrix = [[0 for _ in range(num_vertices)] for _ in range(num_vertices)]\n",
    "    for edge in edges:\n",
    "        u, v = edge\n",
    "        matrix[u - 1][v - 1] = 1\n",
    "        matrix[v - 1][u - 1] = 1  # Граф неориентированный \n",
    "    return matrix  # Добавлено возвращение матрицы\n",
    "edges = [(1, 2), (1, 3), (2, 4), (3, 5), (5, 6), (7, 8)]\n",
    "num_vertices = 8\n",
    "matrix = create_matrix(edges, num_vertices)\n",
    "print('Матрица смежности:')\n",
    "for row in matrix:\n",
    "    print(row)\n",
    "\n",
    "# Матрица инцидентности\n",
    "def create_incidence_matrix(edges, num_vertices):\n",
    "    num_edges = len(edges)\n",
    "    incidence_matrix = [[0 for _ in range(num_edges)] for _ in range(num_vertices)]\n",
    "    for edge_index, edge in enumerate(edges):\n",
    "        u, v = edge\n",
    "        incidence_matrix[u - 1][edge_index] = 1\n",
    "        incidence_matrix[v - 1][edge_index] = 1\n",
    "    return incidence_matrix\n",
    "incidence_matrix = create_incidence_matrix(edges, num_vertices)\n",
    "print(\"\\nМатрица инцидентности:\")\n",
    "for row in incidence_matrix:\n",
    "    print(row)\n",
    "\n",
    "# Поиск компонент связности\n",
    "def find_connected_components(matrix):\n",
    "    num_vertices = len(matrix)\n",
    "    visited = [False] * num_vertices\n",
    "    components = []\n",
    "    def dfs(vertex, current_component):\n",
    "        visited[vertex] = True\n",
    "        current_component.append(vertex + 1)\n",
    "        for neighbor, is_connected in enumerate(matrix[vertex]):\n",
    "            if is_connected and not visited[neighbor]:\n",
    "                dfs(neighbor, current_component)\n",
    "    for vertex in range(num_vertices):\n",
    "        if not visited[vertex]:\n",
    "            current_component = []\n",
    "            dfs(vertex, current_component)\n",
    "            components.append(current_component)\n",
    "    return components\n",
    "connected_components = find_connected_components(matrix)\n",
    "print(\"\\nКомпоненты связности графа:\")\n",
    "for i, component in enumerate(connected_components, start=1):\n",
    "    print(f\"Компонента {i}: {component}\")\n"
   ]
  },
  {
   "cell_type": "code",
   "execution_count": null,
   "id": "a90efa51",
   "metadata": {},
   "outputs": [],
   "source": []
  }
 ],
 "metadata": {
  "kernelspec": {
   "display_name": "Python 3",
   "language": "python",
   "name": "python3"
  },
  "language_info": {
   "codemirror_mode": {
    "name": "ipython",
    "version": 3
   },
   "file_extension": ".py",
   "mimetype": "text/x-python",
   "name": "python",
   "nbconvert_exporter": "python",
   "pygments_lexer": "ipython3",
   "version": "3.11.9"
  }
 },
 "nbformat": 4,
 "nbformat_minor": 5
}
