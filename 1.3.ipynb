{
 "cells": [
  {
   "cell_type": "code",
   "execution_count": 11,
   "id": "559af151",
   "metadata": {},
   "outputs": [
    {
     "name": "stdout",
     "output_type": "stream",
     "text": [
      "1\n"
     ]
    }
   ],
   "source": [
    "def find_min_recursive(lst):\n",
    "    # Базовый случай: если список состоит из одного элемента, возвращаем его\n",
    "    if len(lst) == 1:\n",
    "        return lst[0]\n",
    "    min_of_rest = find_min_recursive(lst[1:])\n",
    "    return min(lst[0], min_of_rest)\n",
    "# Пример использования\n",
    "numbers = [5, 3, 8, 1, 4]\n",
    "print(find_min_recursive(numbers))"
   ]
  }
 ],
 "metadata": {
  "kernelspec": {
   "display_name": "Python 3",
   "language": "python",
   "name": "python3"
  },
  "language_info": {
   "codemirror_mode": {
    "name": "ipython",
    "version": 3
   },
   "file_extension": ".py",
   "mimetype": "text/x-python",
   "name": "python",
   "nbconvert_exporter": "python",
   "pygments_lexer": "ipython3",
   "version": "3.11.9"
  }
 },
 "nbformat": 4,
 "nbformat_minor": 5
}
