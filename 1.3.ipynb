lst = [0, 3, 5, 1, 4, 8, 4, 3, 7, 29, 0, -20]



def find_min_recursive(lst):
    if len(lst) == 1:
        return lst[0]
    m = find_min_recursive(lst[1:])
    return min(lst[0], m)

print(find_min_recursive(lst))
