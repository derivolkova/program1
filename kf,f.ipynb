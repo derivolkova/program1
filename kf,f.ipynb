{
 "cells": [
  {
   "cell_type": "code",
   "execution_count": 3,
   "id": "559af151",
   "metadata": {},
   "outputs": [
    {
     "name": "stdout",
     "output_type": "stream",
     "text": [
      "-20\n"
     ]
    }
   ],
   "source": [
    "lst = [0, 3, 5, 1, 4, 8, 4, 3, 7, 29, 0, -20]\n",
    "\n",
    "\n",
    "\n",
    "def find_min_recursive(lst):\n",
    "    if len(lst) == 1:\n",
    "        return lst[0]\n",
    "    m = find_min_recursive(lst[1:])\n",
    "    return min(lst[0], m)\n",
    "\n",
    "print(find_min_recursive(lst))"
   ]
  },
  {
   "cell_type": "code",
   "execution_count": null,
   "id": "39383bae",
   "metadata": {},
   "outputs": [],
   "source": []
  }
 ],
 "metadata": {
  "kernelspec": {
   "display_name": "Python 3",
   "language": "python",
   "name": "python3"
  },
  "language_info": {
   "codemirror_mode": {
    "name": "ipython",
    "version": 3
   },
   "file_extension": ".py",
   "mimetype": "text/x-python",
   "name": "python",
   "nbconvert_exporter": "python",
   "pygments_lexer": "ipython3",
   "version": "3.11.9"
  }
 },
 "nbformat": 4,
 "nbformat_minor": 5
}
