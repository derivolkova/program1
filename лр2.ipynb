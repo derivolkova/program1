{
  "cells": [
    {
      "cell_type": "code",
      "execution_count": null,
      "metadata": {
        "colab": {
          "base_uri": "https://localhost:8080/"
        },
        "id": "p0WZXXELJb6V",
        "outputId": "6c64f334-8e3e-4278-a6fa-02b09c0330f9"
      },
      "outputs": [
        {
          "name": "stdout",
          "output_type": "stream",
          "text": [
            "x= 10\n",
            "f = 105.0\n"
          ]
        }
      ],
      "source": [
        "\n",
        "# Задание task_02_01.\n",
        "# Выполнил: Дериволкова А.А\n",
        "# Группа: ЦИБ-241\n",
        "\n",
        "x = int(input(\"x= \"))\n",
        "\n",
        "if x >= 0:\n",
        "    f = x ** 1/2 + x ** 2\n",
        "\n",
        "else:\n",
        "    f = 1 / x\n",
        "\n",
        "print(\"f =\", round(f, 2))\n"
      ]
    },
    {
      "cell_type": "code",
      "execution_count": null,
      "metadata": {
        "colab": {
          "base_uri": "https://localhost:8080/"
        },
        "id": "c3R_Ae26JjOu",
        "outputId": "be670a4c-a418-4843-af52-05158c26e1f3"
      },
      "outputs": [
        {
          "name": "stdout",
          "output_type": "stream",
          "text": [
            "a1 =100\n",
            "a2 =-1\n",
            "Максимум: 100 Минимум: -1\n"
          ]
        }
      ],
      "source": [
        "\n",
        "# Задание task_02_02.\n",
        "# Выполнил: Дериволкова А.А\n",
        "# Группа: ЦИБ-241\n",
        "# E-mail: derivolkovaaa071@mgpu.ru\n",
        "\n",
        "\n",
        "a1 = int(input(\"a1 =\"))\n",
        "a2 = int(input(\"a2 =\"))\n",
        "\n",
        "# Переменная 'a_min' должна содержать минимум, 'a_max' - максимум\n",
        "if a1 < a2:\n",
        "  a_min = a1\n",
        "  a_max = a2\n",
        "elif a1 > a2:\n",
        "  a_min = a2\n",
        "  a_max = a1\n",
        "else:\n",
        "  a_min = a2\n",
        "  a_max = a1\n",
        "\n",
        "print(\"Максимум:\", a_max, \"Минимум:\", a_min)\n",
        "\n",
        "\n",
        "# --------------\n",
        "# Пример вывода:\n",
        "#\n",
        "# Введите первое число: 1\n",
        "# Введите второе число: 2\n",
        "# Максимум: 2, минимум: 1\n",
        "\n",
        "# Введите первое число: 5\n",
        "# Введите второе число: 5\n",
        "# Максимум: 5, минимум: 5\n",
        "\n",
        "# Введите первое число: 100\n",
        "# Введите второе число: -1\n",
        "# Максимум: 100, минимум: -1"
      ]
    },
    {
      "cell_type": "code",
      "execution_count": null,
      "metadata": {
        "colab": {
          "base_uri": "https://localhost:8080/"
        },
        "id": "RvLjB0FDLIPc",
        "outputId": "f2303027-e34b-4169-fc8e-39da2dd3788b"
      },
      "outputs": [
        {
          "name": "stdout",
          "output_type": "stream",
          "text": [
            "Ширина =7\n",
            "Высота =6\n",
            "Диаметр =9\n",
            "Нет\n"
          ]
        }
      ],
      "source": [
        "# Задание task_02_03.\n",
        "# Выполнил: Дериволкова А.А\n",
        "# Группа: ЦИБ-241\n",
        "# E-mail: derivolkovaaa071@mgpu.ru\n",
        "\n",
        "\n",
        "\n",
        "a = int(input(\"Ширина =\"))\n",
        "b = int(input(\"Высота =\"))\n",
        "d = int(input(\"Диаметр =\"))\n",
        "\n",
        "# Введенные числа должны быть положительными, если так - осуществляем\n",
        "# расчет, иначе выводим \"Проверьте ввод\"\n",
        "if a > 0 and b > 0 and d > 0:\n",
        "    fix = 1  # Зазор\n",
        "    if a + fix > d and b + fix > d:\n",
        "      print(\"Да\")\n",
        "    elif a + fix < d and b + fix < d:\n",
        "      print(\"Нет\")\n",
        "    else:\n",
        "      print(\"Нет\")\n",
        "    # Вывести \"Да\" или \"Нет\"\n",
        "else:\n",
        "    print(\"Проверьте ввод!\")\n",
        "\n",
        "# --------------\n",
        "# Пример вывода:\n",
        "#\n",
        "# Ширина форточки: 5\n",
        "# Высота форточки: 6\n",
        "# Диаметр головы: 6\n",
        "# Нет\n",
        "\n",
        "# Ширина форточки: 6\n",
        "# Высота форточки: 7\n",
        "# Диаметр головы: 4\n",
        "# Да"
      ]
    },
    {
      "cell_type": "code",
      "execution_count": null,
      "metadata": {
        "colab": {
          "base_uri": "https://localhost:8080/"
        },
        "id": "CY9oT2tVNCSe",
        "outputId": "d4081fc8-f1bc-4361-ae2e-9bd32ce3e721"
      },
      "outputs": [
        {
          "name": "stdout",
          "output_type": "stream",
          "text": [
            "Текущий год: 666\n",
            "Текущий месяц: 20\n",
            "Год рождения :2000\n",
            "Месяц рождениея: 2\n",
            "Число полных лет:  -1334\n"
          ]
        }
      ],
      "source": [
        "# Задание task_02_04.\n",
        "# Выполнил: Дериволкова А.А\n",
        "# Группа: ЦИБ-241\n",
        "# E-mail: derivolkovaaa071@mgpu.ru\n",
        "\n",
        "year_today = int(input(\"Текущий год: \"))\n",
        "month_today = int(input(\"Текущий месяц: \"))\n",
        "\n",
        "year = int(input(\"Год рождения :\"))\n",
        "month = int(input(\"Месяц рождениея: \"))\n",
        "if month_today > month:\n",
        "  age = year_today - year\n",
        "elif month_today < month:\n",
        "  age = year_today - year - 1\n",
        "else:\n",
        "  age = year_today - year\n",
        "# Считается, введенные значения находятся в допустимых пределах,и\n",
        "# что 'month_today' >= 'month' (проверять значения не нужно)\n",
        "# Результат необходимо записать в переменную 'age'\n",
        "\n",
        "# Удалите комментарий и допишите код\n",
        "\n",
        "print(\"Число полных лет: \", age)\n",
        "\n",
        "# --------------\n",
        "# Пример вывода:\n",
        "#\n",
        "# Введите текущий год: 2017\n",
        "# Введите текущий месяц: 5\n",
        "# Введите год рождения: 2000\n",
        "# Введите месяц рождения: 1\n",
        "# Число полных лет:  17\n",
        "#\n",
        "# Введите текущий год: 2015\n",
        "# Введите текущий месяц: 6\n",
        "# Введите год рождения: 2010\n",
        "# Введите месяц рождения: 8\n",
        "# Число полных лет:  4\n",
        "#\n",
        "# Введите текущий год: 2020\n",
        "# Введите текущий месяц: 5\n",
        "# Введите год рождения: 2000\n",
        "# Введите месяц рождения: 5\n",
        "# Число полных лет:  20"
      ]
    },
    {
      "cell_type": "code",
      "execution_count": null,
      "metadata": {
        "colab": {
          "base_uri": "https://localhost:8080/"
        },
        "id": "yaSrMv4SNzOw",
        "outputId": "fbb91a25-05c2-443d-b795-c55147ba11bc"
      },
      "outputs": [
        {
          "name": "stdout",
          "output_type": "stream",
          "text": [
            "x=-3\n",
            "y=-3\n",
            "3-я четверть\n"
          ]
        }
      ],
      "source": [
        "# Задание task_02_05.\n",
        "# Выполнил: Дериволкова А.А\n",
        "# Группа: ЦИБ-241\n",
        "# E-mail: derivolkovaaa071@mgpu.ru\n",
        "\n",
        "x = int(input(\"x=\"))\n",
        "y = int(input(\"y=\"))\n",
        "\n",
        "if x > 0 and y > 0:\n",
        "  print(\"1-я четверть\")\n",
        "elif x < 0 and y < 0:\n",
        "  print(\"3-я четверть\")\n",
        "elif x < 0 and y > 0:\n",
        "  print(\"2-я четверть\")\n",
        "elif x > 0 and y < 0:\n",
        "  print(\"4-я четверть\")\n",
        "\n",
        "\n",
        "\n",
        "# Удалите комментарий и допишите код\n",
        "\n",
        "# --------------\n",
        "# Пример вывода:\n",
        "#\n",
        "# Введите координату x: 5\n",
        "# Введите координату y: 7\n",
        "# 1-я четверть\n"
      ]
    },
    {
      "cell_type": "code",
      "execution_count": null,
      "metadata": {
        "colab": {
          "base_uri": "https://localhost:8080/"
        },
        "id": "QHFjma0EUBCJ",
        "outputId": "d641f89c-9f1d-4ee2-e31d-f6fbd1f68142"
      },
      "outputs": [
        {
          "name": "stdout",
          "output_type": "stream",
          "text": [
            "a=1\n",
            "b=2\n",
            "c=3\n",
            "No away\n"
          ]
        }
      ],
      "source": [
        "# Задание task_02_06.\n",
        "# Выполнил: Дериволкова А.А\n",
        "# Группа: ЦИБ-241\n",
        "# E-mail: derivolkovaaa071@mgpu.ru\n",
        "\n",
        "a = int(input(\"a=\"))\n",
        "b = int(input(\"b=\"))\n",
        "c = int(input(\"c=\"))\n",
        "\n",
        "if a!=0:\n",
        "  D = b**2 -4*a*c\n",
        "  if D > 0:\n",
        "    x1 = (-b + D)/2*a\n",
        "    x2 = (-b - D)/2*a\n",
        "    print(\"Answer:\", round(x1, 1), round(x2, 1))\n",
        "  elif D == 0:\n",
        "    x = -b/2*a\n",
        "    print(\"Answer:\", round(x, 1))\n",
        "  else:\n",
        "    print(\"No away\")\n",
        "else:\n",
        "  print(\"Error: check the number 'a'!\")\n",
        "\n",
        "# Вывод решения в зависимости от значения дискриминанта\n",
        "# При выводе значений оставьте 1 знак после запятой\n",
        "\n",
        "\n",
        "# --------------\n",
        "# Пример вывода:\n",
        "#\n",
        "# a = 1\n",
        "# b = 2\n",
        "# c = 3\n",
        "# Решений нет\n",
        "#\n",
        "# a = 1"
      ]
    },
    {
      "cell_type": "code",
      "execution_count": null,
      "metadata": {
        "colab": {
          "base_uri": "https://localhost:8080/"
        },
        "id": "_qVVxATpXF5w",
        "outputId": "668ed861-a233-4877-f0bc-c334fe0b5da0"
      },
      "outputs": [
        {
          "name": "stdout",
          "output_type": "stream",
          "text": [
            "Введите 1-е число: 2\n",
            "Введите 2-е число: 3\n",
            "Введите 3-е число: 4\n",
            "Введите 4-е число: 1\n",
            "Введите 5-е число: 0\n",
            "Сумма = 10\n",
            "Количество = 5\n"
          ]
        }
      ],
      "source": [
        "# Задание task_02_07.\n",
        "# Выполнил: Дериволкова А.А\n",
        "# Группа: ЦИБ-241\n",
        "# E-mail: derivolkovaaa071@mgpu.ru\n",
        "\n",
        "nums_sum = 0  # сумма\n",
        "nums_count = 1  # количество\n",
        "\n",
        "x = int(input(f\"Введите {nums_count}-е число: \"))\n",
        "while x != 0:\n",
        "  nums_sum+=x\n",
        "  nums_count+=1\n",
        "  x = int(input(f\"Введите {nums_count}-е число: \"))\n",
        "\n",
        "print(f\"Сумма = {nums_sum}\")\n",
        "print(f\"Количество = {nums_count}\")\n",
        "\n",
        "\n",
        "# Удалите комментарий и допишите код\n",
        "\n",
        "# --------------\n",
        "# Пример вывода:\n",
        "#\n",
        "# Введите 1-е число: 1\n",
        "# Введите 2-е число: 2\n",
        "# Введите 3-е число: 3\n",
        "# Введите 4-е число: 4\n",
        "# Введите 5-е число: 0\n",
        "# Сумма = 10\n",
        "# Количество = 4\n",
        "#\n",
        "# Введите 1-е число: 0\n",
        "# Сумма = 0\n",
        "# Количество = 0\n"
      ]
    },
    {
      "cell_type": "code",
      "execution_count": null,
      "metadata": {
        "colab": {
          "base_uri": "https://localhost:8080/"
        },
        "id": "U3DFDBATZZTt",
        "outputId": "f80de30b-ae32-4006-a1de-3dabb16dc9c5"
      },
      "outputs": [
        {
          "name": "stdout",
          "output_type": "stream",
          "text": [
            "n=10\n",
            "0\n",
            "5\n",
            "10\n"
          ]
        }
      ],
      "source": [
        "# Задание task_02_08.\n",
        "# Выполнил: Дериволкова А.А\n",
        "# Группа: ЦИБ-241\n",
        "# E-mail: derivolkovaaa071@mgpu.ru\n",
        "\n",
        "\n",
        "\n",
        "n = int(input(\"n=\"))\n",
        "for i in range(0, n+1, 5):\n",
        "  if i<=n:\n",
        "    print(i)\n",
        "\n",
        "# --------------\n",
        "# Пример вывода:\n",
        "#\n",
        "# n = 0\n",
        "# 0\n",
        "#\n",
        "# n = 10\n",
        "# 0\n",
        "# 5\n",
        "# 10\n",
        "#\n",
        "# n = 12\n",
        "# 0\n",
        "# 5\n",
        "# 10"
      ]
    },
    {
      "cell_type": "code",
      "execution_count": null,
      "metadata": {
        "colab": {
          "base_uri": "https://localhost:8080/"
        },
        "id": "NTkC7nN4a8td",
        "outputId": "fd7c4987-ee53-4ca5-e3cd-4e4a32f4bc5a"
      },
      "outputs": [
        {
          "name": "stdout",
          "output_type": "stream",
          "text": [
            "a = 2\n",
            "n = 4\n"
          ]
        }
      ],
      "source": [
        "# Задание task_02_09.\n",
        "# Выполнил: Дериволкова А.А\n",
        "# Группа: ЦИБ-241\n",
        "# E-mail: derivolkovaaa071@mgpu.ru\n",
        "\n",
        "a = float(input(\"a = \"))\n",
        "\n",
        "n = 0\n",
        "x_sum = 0\n",
        "\n",
        "while x_sum <= a :\n",
        "  n += 1\n",
        "  x_sum += 1/n\n",
        "\n",
        "print(f\"n = {n}\")\n",
        "\n",
        "\n",
        "\n",
        "# --------------\n",
        "# Пример вывода:\n",
        "#\n",
        "# a = 1.5\n",
        "# n = 3\n",
        "#\n",
        "# a = 2\n",
        "# n = 4\n"
      ]
    },
    {
      "cell_type": "code",
      "execution_count": null,
      "metadata": {
        "colab": {
          "base_uri": "https://localhost:8080/"
        },
        "id": "0QYm_i5k3c9V",
        "outputId": "c5959ced-944c-440f-f475-2d73f777d213"
      },
      "outputs": [
        {
          "name": "stdout",
          "output_type": "stream",
          "text": [
            "n = 12345\n",
            "Сумма = 15\n",
            "Количество = 5\n"
          ]
        }
      ],
      "source": [
        "# Задание task_02_10.\n",
        "# Выполнил: Дериволкова А.А\n",
        "# Группа: ЦИБ-241\n",
        "# E-mail: derivolkovaaa071@mgpu.ru\n",
        "\n",
        "n = int(input(\"n = \"))\n",
        "n_sum = 0\n",
        "n_count = 0\n",
        "\n",
        "while (n != 0):\n",
        "  l = n % 10\n",
        "  n_sum += l\n",
        "  n_count += 1\n",
        "  n = n // 10\n",
        "\n",
        "print(f\"Сумма = {n_sum}\")\n",
        "print(f\"Количество = {n_count}\")\n",
        "\n",
        "\n",
        "# --------------\n",
        "# Пример вывода:\n",
        "#\n",
        "# n = 12345\n",
        "# Сумма = 15\n",
        "# Количество = 5\n",
        "\n",
        "\n"
      ]
    },
    {
      "cell_type": "code",
      "execution_count": null,
      "metadata": {
        "colab": {
          "base_uri": "https://localhost:8080/"
        },
        "id": "rRRC_fZz4vqw",
        "outputId": "3031cbc7-6523-4588-9c45-d43b2f6502eb"
      },
      "outputs": [
        {
          "name": "stdout",
          "output_type": "stream",
          "text": [
            "start = 100\n",
            "k = 7\n",
            "s = 9\n",
            "117 207 297 387 477 567 657 747 837 927 \n"
          ]
        }
      ],
      "source": [
        "# Задание task_02_11.\n",
        "# Выполнил: Дериволкова А.А\n",
        "# Группа: ЦИБ-241\n",
        "# E-mail: derivolkovaaa071@mgpu.ru\n",
        "\n",
        "start = int(input(\"start = \"))\n",
        "k = int(input(\"k = \"))\n",
        "s = int(input(\"s = \"))\n",
        "n_count = 0\n",
        "n = start\n",
        "\n",
        "while (n_count < 10):\n",
        "  if n % 10 == k and n % s == 0:\n",
        "    print(n, end =' ')\n",
        "    n_count += 1\n",
        "  n = n + 1\n",
        "print()\n",
        "\n",
        "\n",
        "\n",
        "# --------------\n",
        "# Пример вывода:\n",
        "#\n",
        "# start = 100\n",
        "# k = 7\n",
        "# s = 9\n",
        "# 117 207 297 387 477 567 657 747 837 927\n"
      ]
    },
    {
      "cell_type": "code",
      "execution_count": null,
      "metadata": {
        "colab": {
          "base_uri": "https://localhost:8080/"
        },
        "id": "7UyXjM5o6Iix",
        "outputId": "7bf203c0-f7bb-4357-c2c8-ed9a4a05b3e1"
      },
      "outputs": [
        {
          "name": "stdout",
          "output_type": "stream",
          "text": [
            "a = 1\n",
            "b = 5\n",
            "1 2 3 4 5 \n",
            "5\n",
            "4\n",
            "3\n",
            "2\n",
            "1\n"
          ]
        }
      ],
      "source": [
        "# Задание task_02_12.\n",
        "# Выполнил: Дериволкова А.А\n",
        "# Группа: ЦИБ-241\n",
        "# E-mail: derivolkovaaa071@mgpu.ru\n",
        "\n",
        "a = int(input(\"a = \"))\n",
        "b = int(input(\"b = \"))\n",
        "\n",
        "for i in range(a, b+1) or range(b, a+1):\n",
        "  print(i, end=\" \")\n",
        "else:\n",
        "  print()\n",
        "  if a < b:\n",
        "    i1 = list(range(a, b+1))\n",
        "    i11 = sorted(i1, reverse=True)\n",
        "    for n in i11:\n",
        "      print(n)\n",
        "  else:\n",
        "    i2 = list(range(b, a+1))\n",
        "    i22 = sorted(i2, reverse=True)\n",
        "    for n in i22:\n",
        "      print(n)\n",
        "\n",
        "\n",
        "# --------------\n",
        "# Пример вывода:\n",
        "#\n",
        "# a = 1\n",
        "# b = 5\n",
        "# 1 2 3 4 5\n",
        "# 5\n",
        "# 4\n",
        "# 3\n",
        "# 2\n",
        "# 1"
      ]
    },
    {
      "cell_type": "code",
      "execution_count": null,
      "metadata": {
        "colab": {
          "background_save": true,
          "base_uri": "https://localhost:8080/"
        },
        "id": "dLFx_RTr6O9l",
        "outputId": "9b490057-4592-4bd2-bd6f-25d2cdc4b8ac"
      },
      "outputs": [
        {
          "name": "stdout",
          "output_type": "stream",
          "text": [
            "Сумма = 15\n",
            "Произведение = 120\n",
            "Среднее арифметическое = 3.0\n",
            "Среднее арифметическое = 2.47\n"
          ]
        }
      ],
      "source": [
        "# Задание task_02_13.\n",
        "# Выполнил: Дериволкова А.А\n",
        "# Группа: ЦИБ-241\n",
        "# E-mail: derivolkovaaa071@mgpu.ru\n",
        "\n",
        "a = int(input(\"a = \"))\n",
        "b = int(input(\"b = \"))\n",
        "a<=b\n",
        "n = range(a, b+1)\n",
        "c = 0\n",
        "s = 0\n",
        "p = 1\n",
        "w = 1\n",
        "count = 0\n",
        "for i in n:\n",
        "    s += i\n",
        "    p *= i \n",
        "    count += 1\n",
        "    if i % 2 != 0:\n",
        "        c += 1\n",
        "        w *= i\n",
        "\n",
        "sr_ar = round(s / count, 2)\n",
        "sr_geom = round(w ** (1/c), 2)\n",
        "print(f\"Сумма = {s}\")\n",
        "print(f\"Произведение = {p}\")\n",
        "print(f\"Среднее арифметическое = {sr_ar}\")\n",
        "print(f\"Среднее арифметическое = {sr_geom}\")\n",
        "        \n",
        "\n",
        "# --------------\n",
        "# Пример вывода:\n",
        "#\n",
        "# a = 1\n",
        "# b = 5\n",
        "# Сумма = 15\n",
        "# Произведение = 120\n",
        "# Среднее арифметическое = 3.00\n",
        "# Среднее геометрическое нечетных чисел = 2.47"
      ]
    },
    {
      "cell_type": "code",
      "execution_count": null,
      "metadata": {
        "id": "ubaeePaE-Rw6"
      },
      "outputs": [
        {
          "name": "stdout",
          "output_type": "stream",
          "text": [
            "Пробег за 1-й день (км.) = 5\n",
            "На сколько увеличивает пробег (%) = 10\n",
            "Пробег за 2-й день: 5.5 км.\n",
            "Пробег за 3-й день: 6.0 км.\n",
            "Пробег за 4-й день: 6.6 км.\n",
            "Пробег за 5-й день: 7.3 км.\n",
            "Пробег за 6-й день: 8.0 км.\n",
            "Пробег за 7-й день: 8.8 км.\n",
            "Пробег за 8-й день: 9.7 км.\n",
            "Пробег за 9-й день: 10.7 км.\n",
            "Пробег за 10-й день: 11.8 км.\n",
            "Суммарный пробег: 79.4 км.\n"
          ]
        }
      ],
      "source": [
        "# Задание task_02_14.\n",
        "# Выполнил: Дериволкова А.А\n",
        "# Группа: ЦИБ-241\n",
        "# E-mail: derivolkovaaa071@mgpu.ru\n",
        "\n",
        "\n",
        "\n",
        "s = int(input(\"Пробег за 1-й день (км.) = \"))\n",
        "p = int(input(\"На сколько увеличивает пробег (%) = \"))\n",
        "d = 1 \n",
        "print(f\"Пробег за {d}-й день (км.) = {s}\")\n",
        "print(f\"На сколько увеличивает пробег (%) = {p}\")\n",
        "total = s\n",
        "\n",
        "for t in range(2, 11):\n",
        "    d += 1\n",
        "    s = round((s + (s / 100) * p), 1)\n",
        "    total += s\n",
        "    print(f\"Пробег за {d}-й день: {s} км.\")\n",
        "total = round(total, 1)\n",
        "print(f\"Суммарный пробег: {total} км.\")\n",
        "\n",
        "\n",
        "\n",
        "\n",
        "# --------------\n",
        "# Пример вывода:\n",
        "#\n",
        "# Пробег за 1-й день (км.) = 5\n",
        "# На сколько увеличивает пробег (%) = 10\n",
        "# Пробег за 2-й день: 5.5 км.\n",
        "# Пробег за 3-й день: 6.1 км.\n",
        "# Пробег за 4-й день: 6.7 км.\n",
        "# Пробег за 5-й день: 7.3 км.\n",
        "# Пробег за 6-й день: 8.1 км.\n",
        "# Пробег за 7-й день: 8.9 км.\n",
        "# Пробег за 8-й день: 9.7 км.\n",
        "# Пробег за 9-й день: 10.7 км.\n",
        "# Пробег за 10-й день: 11.8 км.\n",
        "# Суммарный пробег: 79.7 км.\n"
      ]
    },
    {
      "cell_type": "code",
      "execution_count": 30,
      "metadata": {
        "id": "r-lUXOFBfu_q"
      },
      "outputs": [
        {
          "name": "stdout",
          "output_type": "stream",
          "text": [
            "Грузоподъемность грузовика (кг.) = 10\n",
            "Количество предметов = 2\n",
            "Масса 1-го предмета (кг.) =  3\n",
            "Масса 2-го предмета (кг.) =  3\n",
            "Да\n"
          ]
        }
      ],
      "source": [
        "# Задание task_02_15.\n",
        "# Выполнил: Дериволкова А.А\n",
        "# Группа: ЦИБ-241\n",
        "# E-mail: derivolkovaaa071@mgpu.ru\n",
        "\n",
        "p = 10 #грузовик\n",
        "n = int(input(\"Количество предметов =\"))\n",
        "m=1\n",
        "b = []\n",
        "while m <= n:\n",
        "    с = int(input(f\"Масса {m}-го предмета\"))\n",
        "    b.append(с)\n",
        "    m += 1\n",
        "print(f\"Грузоподъемность грузовика (кг.) = {p}\")\n",
        "print(f\"Количество предметов = {n}\")\n",
        "print(\"Масса 1-го предмета (кг.) = \", b[0])\n",
        "print(\"Масса 2-го предмета (кг.) = \", b[1])\n",
        "if sum(b) <= p:\n",
        "    print(\"Да\")\n",
        "else:\n",
        "    print(\"Нет\")\n",
        "\n",
        "\n",
        "\n",
        "# Удалите комментарий и допишите код\n",
        "\n",
        "# --------------\n",
        "# Пример вывода:\n",
        "#\n",
        "# Грузоподъемность грузовика (кг.) = 10\n",
        "# Количество предметов = 2\n",
        "# Масса 1-го предмета (кг.) = 3\n",
        "# Масса 2-го предмета (кг.) = 3\n",
        "# Да\n"
      ]
    },
    {
      "cell_type": "code",
      "execution_count": 34,
      "metadata": {
        "id": "Z83tB1xnf8Kr"
      },
      "outputs": [
        {
          "name": "stdout",
          "output_type": "stream",
          "text": [
            "Собрано пшеницы: 65.0 ц.\n"
          ]
        }
      ],
      "source": [
        "# Задание task_02_16\n",
        "# Выполнил: Дериволкова А.А\n",
        "# Группа: ЦИБ-241\n",
        "# E-mail: derivolkovaaa071@mgpu.ru\n",
        "\n",
        "n = int(input(\"Kоличество районов =\"))\n",
        "r = 1 \n",
        "P = []\n",
        "U = []\n",
        "while r <= n: \n",
        "    p = float(input(f\"Площадь {r}-го района (га) =\"))\n",
        "    P.append(p)\n",
        "    u = float(input(f\"Урожайность {r}-го района (га) =\"))\n",
        "    U.append(u)\n",
        "    r += 1\n",
        "T = round(((P[0] * U[0]) + (P[1] * U[1]) + (P[2]* U[2])), 1)\n",
        "print(f\"Собрано пшеницы: {T} ц.\")\n",
        "\n",
        "\n",
        "# --------------\n",
        "# Пример вывода:\n",
        "#\n",
        "# Количество районов = 3\n",
        "# Площадь 1-го района (га) = 4\n",
        "# Урожайность в 1-м районе (ц/га.) = 2\n",
        "# Площадь 2-го района (га) = 7\n",
        "# Урожайность в 2-м районе (ц/га.) = 3\n",
        "# Площадь 3-го района (га) = 9\n",
        "# Урожайность в 3-м районе (ц/га.) = 4\n",
        "# Собрано пшеницы: 65.0 ц.\n"
      ]
    },
    {
      "cell_type": "code",
      "execution_count": null,
      "metadata": {},
      "outputs": [
        {
          "name": "stdout",
          "output_type": "stream",
          "text": [
            "Сумма = 0\n",
            "Количество = 0\n"
          ]
        }
      ],
      "source": [
        "# Задание task_02_17.\n",
        "# Выполнил: Дериволкова А.А\n",
        "# Группа: ЦИБ-241\n",
        "# E-mail: derivolkovaaa071@mgpu.ru\n",
        "\n",
        "\n",
        "n = 2\n",
        "num = int(input(f\"Введите 1-е число: \"))\n",
        "nums_sum = 0  # сумма\n",
        "nums_count = 0  # количество\n",
        "#nums_sum += num\n",
        "#nums_count += 1\n",
        "while num != 0:\n",
        "    num = int(input(f\"Введите {n}-е число: \"))\n",
        "    n += 1\n",
        "    nums_sum += num\n",
        "    nums_count += 1\n",
        "    if num == 0:\n",
        "        break\n",
        "    \n",
        "print(f\"Сумма = {nums_sum}\")\n",
        "print(f\"Количество = {nums_count}\")\n"
      ]
    },
    {
      "cell_type": "code",
      "execution_count": null,
      "metadata": {},
      "outputs": [
        {
          "name": "stdout",
          "output_type": "stream",
          "text": [
            "Кол-во букв в предложении: гласных - 7, согласных - 9\n"
          ]
        }
      ],
      "source": [
        "# Задание task_02_18.\n",
        "# Выполнил: Дериволкова А.А\n",
        "# Группа: ЦИБ-241\n",
        "# E-mail: derivolkovaaa071@mgpu.ru\n",
        "\n",
        "\n",
        "\n",
        "\n",
        "sentence = input(\"Введите предложение: \")\n",
        "sentence = sentence.lower()\n",
        "gl = 'уеыаоэяию' \n",
        "sogl = 'йцкнгшщзхъфвпрлджчсмтьб'\n",
        "cgl = 0\n",
        "csogl = 0\n",
        "for i in sentence:\n",
        "    if i in gl:\n",
        "        cgl += 1\n",
        "    elif i in \" \":\n",
        "        continue\n",
        "    elif i in sogl:\n",
        "        csogl += 1\n",
        "print(f\"Кол-во букв в предложении: гласных - {cgl}, согласных - {csogl}\")\n",
        "\n",
        "\n",
        "\n",
        "        \n",
        "\n",
        "\n",
        "\n",
        "\n",
        "\n",
        "\n",
        "\n",
        "# Удалите комментарий и допишите код\n",
        "\n",
        "# --------------\n",
        "# Пример вывода:\n",
        "#\n",
        "# Введите предложение: Программирование\n",
        "# Кол-во букв в предложении: гласных - 7, согласных - 9\n"
      ]
    },
    {
      "cell_type": "code",
      "execution_count": null,
      "metadata": {},
      "outputs": [
        {
          "name": "stdout",
          "output_type": "stream",
          "text": [
            "5 10 15 20 25 30 35 40 45 50 55 "
          ]
        }
      ],
      "source": [
        "# Задание task_02_19.\n",
        "# Выполнил: Дериволкова А.А\n",
        "# Группа: ЦИБ-241\n",
        "# E-mail: derivolkovaaa071@mgpu.ru\n",
        "\n",
        "a = int(input(\"a = \"))\n",
        "b = int(input(\"b = \"))\n",
        "c = int(input(\"c = \"))\n",
        "\n",
        "for i in range(a, b+1):\n",
        "    if (i % c == 0) and (i // i == 1):\n",
        "        print(i, end=' ')\n",
        "\n",
        "\n",
        "\n",
        "\n",
        "\n",
        "# Удалите комментарий и допишите код\n",
        "\n",
        "# --------------\n",
        "# Пример вывода:\n",
        "#\n",
        "# a = 1\n",
        "# b = 10\n",
        "# c = 2\n",
        "# 2 4 6 8 10"
      ]
    },
    {
      "cell_type": "code",
      "execution_count": null,
      "metadata": {
        "id": "pcj7U2-7gEiA"
      },
      "outputs": [
        {
          "name": "stdout",
          "output_type": "stream",
          "text": [
            "102 111 120 201 210 300 "
          ]
        }
      ],
      "source": [
        "# Задание task_02_20.\n",
        "# Выполнил: Дериволкова А.А\n",
        "# Группа: ЦИБ-241\n",
        "# E-mail: derivolkovaaa071@mgpu.ru\n",
        "\n",
        "\n",
        "\n",
        "\n",
        "n = int(input(\"n = \"))\n",
        "\n",
        "for i in range(100, 1000):\n",
        "    o = i // 100\n",
        "    t = (i // 10) % 10\n",
        "    th = i % 10\n",
        "    if o + t + th == n:\n",
        "        print(i, end=' ')\n",
        "    elif o + t + th != n:\n",
        "        continue\n",
        "\n",
        "\n",
        "# --------------\n",
        "# Пример вывода:\n",
        "#\n",
        "# n = 3\n",
        "# 102 111 120 201 210 300"
      ]
    },
    {
      "cell_type": "code",
      "execution_count": null,
      "metadata": {
        "id": "u5x1ne_Ai935"
      },
      "outputs": [],
      "source": [
        "\n"
      ]
    },
    {
      "cell_type": "code",
      "execution_count": null,
      "metadata": {
        "id": "hc477Jr6oOvf"
      },
      "outputs": [
        {
          "name": "stdout",
          "output_type": "stream",
          "text": [
            "Средний рост мальчиков: 150.0\n",
            "Средний рост девочек: 165.0\n"
          ]
        }
      ],
      "source": [
        "# Задание task_02_21.\n",
        "# Выполнил: Дериволкова А.А\n",
        "# Группа: ЦИБ-241\n",
        "# E-mail: derivolkovaaa071@mgpu.ru\n",
        "\n",
        "\n",
        "\n",
        "\n",
        "n = int(input(\"Количество учеников: \"))\n",
        "c = 1 #нумерация\n",
        "d = []\n",
        "m = []\n",
        "while c <= n: \n",
        "  r = float(input(f\"Рост {c}-го ученика =\"))\n",
        "  c += 1\n",
        "  if r > 0:\n",
        "    d.append(r)\n",
        "  elif r < 0:\n",
        "    m.append(r)\n",
        "\n",
        "r_sr_m = round(abs(sum(m) / 1), 1)\n",
        "r_sr_d = round(sum(d) / 4, 1)\n",
        "\n",
        "print(f\"Средний рост мальчиков: {r_sr_m}\")\n",
        "print(f\"Средний рост девочек: {r_sr_d}\")\n",
        "\n",
        "# --------------\n",
        "# Пример вывода:\n",
        "#\n",
        "# n = 5\n",
        "# Рост 1-го ученика = 150\n",
        "# Рост 2-го ученика = -150\n",
        "# Рост 3-го ученика = 160\n",
        "# Рост 4-го ученика = 170\n",
        "# Рост 5-го ученика = 180\n",
        "# Средний рост мальчиков: 150.0\n",
        "# Средний рост девочек: 165.0"
      ]
    },
    {
      "cell_type": "code",
      "execution_count": null,
      "metadata": {
        "id": "nLL97ETft-Ym"
      },
      "outputs": [
        {
          "name": "stdout",
          "output_type": "stream",
          "text": [
            "Максимум:9.66\n",
            "Минимум: 1.1\n"
          ]
        }
      ],
      "source": [
        "# Задание task_02_22.\n",
        "# Выполнил: Дериволкова А.А\n",
        "# Группа: ЦИБ-241\n",
        "# E-mail: derivolkovaaa071@mgpu.ru\n",
        "\n",
        "\n",
        "n = float(input(\"n = \"))\n",
        "n_count = 1\n",
        "a = list()\n",
        "a_max = None\n",
        "a_min = None\n",
        "while n_count <= n:\n",
        "  f = float(input(f\"Введите {n_count}-е число\"))\n",
        "  a.append(f)\n",
        "  n_count+=1\n",
        "\n",
        "a_max = round(max(a), 2)\n",
        "a_min = round(min(a), 2)\n",
        "print(f\"Максимум: {a_max}\")\n",
        "print(f\"Минимум: {a_min}\")\n",
        "\n",
        "\n",
        "\n",
        "\n",
        "# --------------\n",
        "# Пример вывода:\n",
        "#\n",
        "# n = 4\n",
        "# 1-е число = 6.2\n",
        "# 2-е число = 3.8\n",
        "# 3-е число = 1.1\n",
        "# 4-е число = 9.66\n",
        "# Максимум: 9.66\n",
        "# Минимум: 1.10"
      ]
    },
    {
      "cell_type": "code",
      "execution_count": null,
      "metadata": {
        "id": "Zz43H552zdi_"
      },
      "outputs": [
        {
          "name": "stdout",
          "output_type": "stream",
          "text": [
            "Не является\n"
          ]
        }
      ],
      "source": [
        "# Задание task_02_23.\n",
        "# Выполнил: Дериволкова А.А\n",
        "# Группа: ЦИБ-241\n",
        "# E-mail: derivolkovaaa071@mgpu.ru\n",
        "\n",
        "n = int(input('n = '))\n",
        "\n",
        "a = 0\n",
        "b = 1\n",
        "\n",
        "while b < n:\n",
        "    a, b = b, a + b\n",
        "\n",
        "if b == n:\n",
        "    print('Является')\n",
        "else:\n",
        "    print('Не является')\n",
        "\n",
        "# --------------\n",
        "# Пример вывода:\n",
        "#\n",
        "# n = 7\n",
        "# Не является\n",
        "#\n",
        "# n = 8\n",
        "# Является"
      ]
    },
    {
      "cell_type": "code",
      "execution_count": null,
      "metadata": {},
      "outputs": [
        {
          "name": "stdout",
          "output_type": "stream",
          "text": [
            "2\n"
          ]
        }
      ],
      "source": [
        "# Задание task_02_24.\n",
        "#\n",
        "# Выполнил: Дериволкова А.А\n",
        "# Группа: ЦИБ - 241\n",
        "\n",
        "\n",
        "\n",
        "\n",
        "# -1 означает, что последовательность упорядочена по возрастанию\n",
        "# Если это не так, 'index' меняется в цикле на индекс элемента,\n",
        "# нарушающего порядок\n",
        "n = int(input(\"n = \"))\n",
        "index = -1\n",
        "prev = float(input(\"1-е число = \"))\n",
        "count = 1\n",
        "for i in range(n-1):\n",
        "    count += 1\n",
        "    a = float(input(f\"{count}-е число = \"))\n",
        "    if a > prev: \n",
        "        continue \n",
        "    elif a > a:\n",
        "        index = index\n",
        "    elif a <= a:\n",
        "        index = i +2\n",
        "        break\n",
        "\n",
        "    if index == i: \n",
        "        break \n",
        "if index == -1:\n",
        "    print(\"Является\")\n",
        "elif index == i + 2:\n",
        "    print(index)\n",
        "# Удалите комментарий и допишите код\n",
        "\n",
        "# --------------\n",
        "# Пример вывода:\n",
        "#\n",
        "# n = 4\n",
        "# 1-е число = 2\n",
        "# 2-е число = 4.6\n",
        "# 3-е число = 6\n",
        "# 4-е число = 8.3\n",
        "# Является\n",
        "#\n",
        "# n = 3\n",
        "# 1-е число = 3\n",
        "# 2-е число = 3\n",
        "# 2"
      ]
    },
    {
      "cell_type": "code",
      "execution_count": null,
      "metadata": {},
      "outputs": [
        {
          "name": "stdout",
          "output_type": "stream",
          "text": [
            "1 * 1 = 1\t1 * 2 = 2\t1 * 3 = 3\t1 * 4 = 4\t1 * 5 = 5\t\n",
            "2 * 1 = 2\t2 * 2 = 4\t2 * 3 = 6\t2 * 4 = 8\t2 * 5 = 10\t\n",
            "3 * 1 = 3\t3 * 2 = 6\t3 * 3 = 9\t3 * 4 = 12\t3 * 5 = 15\t\n",
            "4 * 1 = 4\t4 * 2 = 8\t4 * 3 = 12\t4 * 4 = 16\t4 * 5 = 20\t\n",
            "5 * 1 = 5\t5 * 2 = 10\t5 * 3 = 15\t5 * 4 = 20\t5 * 5 = 25\t\n"
          ]
        }
      ],
      "source": [
        "\n",
        "# Задание task_02_25.\n",
        "# Выполнил: Дериволкова А.А\n",
        "# Группа: ЦИБ-241\n",
        "# E-mail: derivolkovaaa071@mgpu.ru\n",
        "\n",
        "\n",
        "\n",
        "\n",
        "n = int(input(\"n = \"))\n",
        "# 2<=n<=9\n",
        "for i in range (1, n+1):\n",
        "    for j in range (1, n+1):\n",
        "        print( i, \"*\", j, \"=\", i*j, end='\\t')\n",
        "    print()\n",
        "\n",
        "\n",
        "\n",
        "# --------------\n",
        "# Пример вывода:\n",
        "#\n",
        "# n = 5\n",
        "# 1 * 1 =  1  1 * 2 =  2  1 * 3 =  3  1 * 4 =  4  1 * 5 =  5\n",
        "# 2 * 1 =  2  2 * 2 =  4  2 * 3 =  6  2 * 4 =  8  2 * 5 = 10\n",
        "# 3 * 1 =  3  3 * 2 =  6  3 * 3 =  9  3 * 4 = 12  3 * 5 = 15\n",
        "# 4 * 1 =  4  4 * 2 =  8  4 * 3 = 12  4 * 4 = 16  4 * 5 = 20\n",
        "# 5 * 1 =  5  5 * 2 = 10  5 * 3 = 15  5 * 4 = 20  5 * 5 = 25"
      ]
    },
    {
      "cell_type": "code",
      "execution_count": null,
      "metadata": {},
      "outputs": [
        {
          "name": "stdout",
          "output_type": "stream",
          "text": [
            "1 *\n",
            "2 **\n",
            "3 **\n",
            "4 ***\n",
            "5 **\n",
            "6 ****\n",
            "7 **\n",
            "8 ****\n",
            "9 ***\n",
            "10 ****\n"
          ]
        }
      ],
      "source": [
        "# Задание task_02_26.\n",
        "# Выполнил: Дериволкова А.А\n",
        "# Группа: ЦИБ-241\n",
        "# E-mail: derivolkovaaa071@mgpu.ru\n",
        "\n",
        "\n",
        "\n",
        "\n",
        "n = int(input(\"n = \"))\n",
        "\n",
        "for i in range(1, n+1):\n",
        "    count = 0\n",
        "    for g in range(1, i+1):\n",
        "        if i % g ==0:\n",
        "            count += 1\n",
        "    print(i, count*'*')\n",
        "\n",
        "# --------------\n",
        "# Пример вывода:\n",
        "#\n",
        "# n = 10\n",
        "# 1 *\n",
        "# 2 **\n",
        "# 3 **\n",
        "# 4 ***\n",
        "# 5 **\n",
        "# 6 ****\n",
        "# 7 **\n",
        "# 8 ****\n",
        "# 9 ***\n",
        "# 10 ****\n",
        "\n"
      ]
    },
    {
      "cell_type": "code",
      "execution_count": null,
      "metadata": {},
      "outputs": [
        {
          "name": "stdout",
          "output_type": "stream",
          "text": [
            "2 3 5 7 11 13 17 19 23 29 31 "
          ]
        }
      ],
      "source": [
        "\n",
        "# Задание task_02_27.\n",
        "# Выполнил: Дериволкова А.А\n",
        "# Группа: ЦИБ-241\n",
        "# E-mail: derivolkovaaa071@mgpu.ru\n",
        "\n",
        "n = int(input(\"n = \"))\n",
        "i = 2\n",
        "c = 0\n",
        "while c <= n:\n",
        "    prostoe = True \n",
        "    for j in range(2, i):\n",
        "        if i%j == 0:\n",
        "            prostoe = False \n",
        "            break\n",
        "    if prostoe:\n",
        "        c +=1\n",
        "        print(i, end=' ')\n",
        "    i +=1"
      ]
    },
    {
      "cell_type": "code",
      "execution_count": null,
      "metadata": {},
      "outputs": [
        {
          "name": "stdout",
          "output_type": "stream",
          "text": [
            "x = 4, y = 10, z = 28\t\n",
            "x = 4, y = 20, z = 22\t\n",
            "x = 4, y = 22, z = 20\t\n",
            "x = 4, y = 28, z = 10\t\n",
            "x = 10, y = 4, z = 28\t\n",
            "x = 10, y = 20, z = 20\t\n",
            "x = 10, y = 28, z = 4\t\n",
            "x = 20, y = 4, z = 22\t\n",
            "x = 20, y = 10, z = 20\t\n",
            "x = 20, y = 20, z = 10\t\n",
            "x = 20, y = 22, z = 4\t\n",
            "x = 22, y = 4, z = 20\t\n",
            "x = 22, y = 20, z = 4\t\n",
            "x = 28, y = 4, z = 10\t\n",
            "x = 28, y = 10, z = 4\t\n"
          ]
        }
      ],
      "source": [
        "# Задание task_02_28.\n",
        "# Выполнил: Дериволкова А.А\n",
        "# Группа: ЦИБ-241\n",
        "# E-mail: derivolkovaaa071@mgpu.ru\n",
        "\n",
        "\n",
        "\n",
        "\n",
        "k = int(input(\"k = \"))\n",
        "for x in range(1, 31):\n",
        "    for y in range(1, 31):\n",
        "        for z in range(1, 31):\n",
        "            if k**2 == x**2 + y**2 + z**2:\n",
        "                print(f\"x = {x}, y = {y}, z = {z}\", end='\\t')\n",
        "                print()\n",
        "\n",
        "\n",
        "\n",
        "# --------------\n",
        "# Пример вывода:\n",
        "#\n",
        "# k = 30\n",
        "# x =  4, y = 10, z = 28\n",
        "# x =  4, y = 20, z = 22\n",
        "# x =  4, y = 22, z = 20\n",
        "# x =  4, y = 28, z = 10\n",
        "# x = 10, y =  4, z = 28\n",
        "# x = 10, y = 20, z = 20\n",
        "# x = 10, y = 28, z =  4\n",
        "# x = 20, y =  4, z = 22\n",
        "# x = 20, y = 10, z = 20\n",
        "# x = 20, y = 20, z = 10\n",
        "# x = 20, y = 22, z =  4\n",
        "# x = 22, y =  4, z = 20\n",
        "# x = 22, y = 20, z =  4\n",
        "# x = 28, y =  4, z = 10\n",
        "# x = 28, y = 10, z =  4"
      ]
    },
    {
      "cell_type": "code",
      "execution_count": null,
      "metadata": {},
      "outputs": [
        {
          "name": "stdout",
          "output_type": "stream",
          "text": [
            "Исходный список: [1, 6, -10, -3]\n",
            "Положительные числа: [1, 6]\n",
            "Отрицательные числа: [-10, -3]\n",
            "Ср. арифм.: 3.5\n",
            "Ср. геом.: 5.48\n"
          ]
        }
      ],
      "source": [
        "# Задание task_02_29.\n",
        "# Выполнил: Дериволкова А.А\n",
        "# Группа: ЦИБ-241\n",
        "# E-mail: derivolkovaaa071@mgpu.ru\n",
        "\n",
        "\n",
        "c = 1\n",
        "n = int(input(\"n = \"))\n",
        "nums = list()\n",
        "nums_pos = list()\n",
        "nums_neg = list()\n",
        "sum = 0 \n",
        "prod = 1\n",
        "while c <= n: \n",
        "    g = int(input(f\"Введите {c}-й элемент списка: \"))\n",
        "    nums.append(g)\n",
        "    if g > 0:\n",
        "        nums_pos.append(g)\n",
        "        sum += g\n",
        "    elif g < 0: \n",
        "        nums_neg.append(g)\n",
        "        prod *= g\n",
        "    else:\n",
        "        continue\n",
        "    c+=1\n",
        "\n",
        "sr_ar = round(sum / len(nums_pos), 2)\n",
        "sr_geom = round(prod ** (1/len(nums_neg)), 2)\n",
        "\n",
        "print(f\"Исходный список: {nums}\")\n",
        "print(f\"Положительные числа: {nums_pos}\")\n",
        "print(f\"Отрицательные числа: {nums_neg}\")\n",
        "print(f\"Ср. арифм.: {sr_ar}\")\n",
        "print(f\"Ср. геом.: {sr_geom}\")\n",
        "\n",
        "\n",
        "# --------------\n",
        "# Пример вывода:\n",
        "#\n",
        "# n = 4\n",
        "# Введите 1-й элемент списка: 1\n",
        "# Введите 2-й элемент списка: 6\n",
        "# Введите 3-й элемент списка: -10\n",
        "# Введите 4-й элемент списка: -3\n",
        "# Исходный список: [1.0, 6.0, -10.0, -3.0]\n",
        "# Положительные числа: [1.0, 6.0]\n",
        "# Отрицательные числа: [-10.0, -3.0]\n",
        "# Ср. арифм.: 3.50\n",
        "# Ср. геом.: 5.48"
      ]
    },
    {
      "cell_type": "code",
      "execution_count": null,
      "metadata": {},
      "outputs": [
        {
          "name": "stdout",
          "output_type": "stream",
          "text": [
            "Все положительные: False False\n",
            "Хотя бы 1 нулевой элемент: True True\n",
            "Все четные: False False\n",
            "Хотя бы 1 нечетный элемент: False False\n"
          ]
        }
      ],
      "source": [
        "# Задание task_02_30.\n",
        "# Выполнил: Дериволкова А.А\n",
        "# Группа: ЦИБ-241\n",
        "# E-mail: derivolkovaaa071@mgpu.ru\n",
        "\n",
        "\n",
        "\n",
        "\n",
        "# Все разделенные пробелом элементы будут преобразованы в список целых чисел\n",
        "nums = [int(item) for item in input().split()]\n",
        "\n",
        "# 1. Все положительные\n",
        "for item in nums:\n",
        "    if item <= 0:\n",
        "        all_pos_1 = False\n",
        "        break\n",
        "else:\n",
        "    all_pos_1 = True\n",
        "\n",
        "all_pos_2 = all([item > 0 for item in nums])\n",
        "\n",
        "# 2. Хотя бы 1 нулевой элемент\n",
        "for item in nums:\n",
        "    if item == 0:\n",
        "        any_zero_1 = True\n",
        "        break\n",
        "else:\n",
        "    any_zero_1 = False\n",
        "\n",
        "any_zero_2 = any([item == 0 for item in nums])\n",
        "\n",
        "# 3. Все четные\n",
        "for item in nums:\n",
        "    if item % 2 !=0:\n",
        "        all_even_1 = False\n",
        "        break\n",
        "    else:\n",
        "        all_even_1 = True\n",
        "all_even_2 = all([item%2 == 0 for item in nums])\n",
        "\n",
        "# 4. Хотя бы 1 нечетный элемент\n",
        "for item in nums:\n",
        "    if item % 2 != 0: \n",
        "        any_odd_1 = True\n",
        "    else:\n",
        "        any_odd_1 = False\n",
        "any_odd_2 = any([item %2 != 0 for iten in nums])\n",
        "\n",
        "print(\"Все положительные:\", all_pos_1, all_pos_2)\n",
        "print(\"Хотя бы 1 нулевой элемент:\", any_zero_1, any_zero_2)\n",
        "print(\"Все четные:\", all_even_1, all_even_2)\n",
        "print(\"Хотя бы 1 нечетный элемент:\", any_odd_1, any_odd_2)\n",
        "\n",
        "# --------------\n",
        "# Пример вывода:\n",
        "#\n",
        "# -1 1 100 0\n",
        "# Все положительные: False False\n",
        "# Хотя бы 1 нулевой элемент: True True\n",
        "# Все четные: False False\n",
        "# Хотя бы 1 нечетный элемент: True True"
      ]
    },
    {
      "cell_type": "code",
      "execution_count": null,
      "metadata": {},
      "outputs": [
        {
          "name": "stdout",
          "output_type": "stream",
          "text": [
            "МАМА мыла\n"
          ]
        }
      ],
      "source": [
        "# Задание task_02_31.\n",
        "# Выполнил: Дериволкова А.А\n",
        "# Группа: ЦИБ-241\n",
        "# E-mail: derivolkovaaa071@mgpu.ru\n",
        "\n",
        "\n",
        "\n",
        "\n",
        "s = input(\"Введите предложение = \")\n",
        "k = input(\"Введите букву = \")\n",
        "\n",
        "s_s = s.split()\n",
        "s = []\n",
        "\n",
        "for i in range(len(s_s)):\n",
        "    if k.lower() not in s_s[i] and k.upper() not in s_s[i]:\n",
        "        s.append(s_s[i])\n",
        "\n",
        "s = ' '.join(s)\n",
        "print(s)\n",
        "\n",
        "\n",
        "\n",
        "# --------------\n",
        "# Пример вывода:\n",
        "#\n",
        "# Введите предложение = МАМА мыла РаМу\n",
        "# Введите букву = р\n",
        "# МАМА мыла\n"
      ]
    },
    {
      "cell_type": "code",
      "execution_count": null,
      "metadata": {},
      "outputs": [
        {
          "name": "stdout",
          "output_type": "stream",
          "text": [
            "Всего свободных мест: 7\n",
            "Место свободно:  True\n"
          ]
        }
      ],
      "source": [
        "# Задание task_02_32.\n",
        "# Выполнил: Дериволкова А.А\n",
        "# Группа: ЦИБ-241\n",
        "# E-mail: derivolkovaaa071@mgpu.ru\n",
        "\n",
        "\n",
        "\n",
        "\n",
        "n = int(input(\"Количество рядов = \"))\n",
        "\n",
        "# 1. Заполнение мест\n",
        "seats = []\n",
        "for _ in range(n):\n",
        "    seats_per_row = input()\n",
        "    seats_per_row = list(map(int, seats_per_row.split()))\n",
        "    seats.append(seats_per_row)\n",
        "\n",
        "# 2. Всего свободных мест\n",
        "count = 0\n",
        "for i in range(len(seats)):\n",
        "    for i1 in range(len(seats[i])):\n",
        "        if seats[i][i1]==0:\n",
        "            count+=1\n",
        "print(f\"Всего свободных мест: {count}\")\n",
        "\n",
        "# 3. Ввод значений для поиска\n",
        "\n",
        "n_s, n_r = [int(item) for item in input(\"Введите ряд и место через пробел: \").split()]\n",
        "n_s, n_r = n_s-1, n_r-1\n",
        "\n",
        "if ((0<=n_s)and (n_s<=len(seats))) and ((0<=n_r)and (n_r<=len(seats[n_s]))):\n",
        "    if seats[n_s][n_r]==0:\n",
        "        print('Место свободно: ', True)\n",
        "    else:\n",
        "        print('Место свободно: ', False)\n",
        "else:\n",
        "    print('Такого места не существует')\n",
        "\n",
        "\n",
        "# --------------\n",
        "# Пример вывода:\n",
        "#\n",
        "# Количество рядов = 3\n",
        "# 0 0 0\n",
        "# 1 1 1\n",
        "# 0 0 0 0 1\n",
        "# Всего свободных мест: 7\n",
        "# Введите ряд и место через пробел: 1 1\n",
        "# Место свободно: True\n"
      ]
    },
    {
      "cell_type": "code",
      "execution_count": null,
      "metadata": {},
      "outputs": [],
      "source": [
        "\n",
        "\n"
      ]
    },
    {
      "cell_type": "code",
      "execution_count": null,
      "metadata": {},
      "outputs": [],
      "source": []
    }
  ],
  "metadata": {
    "colab": {
      "provenance": []
    },
    "kernelspec": {
      "display_name": "Python 3",
      "name": "python3"
    },
    "language_info": {
      "codemirror_mode": {
        "name": "ipython",
        "version": 3
      },
      "file_extension": ".py",
      "mimetype": "text/x-python",
      "name": "python",
      "nbconvert_exporter": "python",
      "pygments_lexer": "ipython3",
      "version": "3.11.9"
    }
  },
  "nbformat": 4,
  "nbformat_minor": 0
}
